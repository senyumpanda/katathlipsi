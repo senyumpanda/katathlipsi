{
 "cells": [
  {
   "cell_type": "markdown",
   "id": "1dc25852",
   "metadata": {},
   "source": [
    "# 01 Import Library"
   ]
  },
  {
   "cell_type": "code",
   "execution_count": 1,
   "id": "0cb0a53d",
   "metadata": {},
   "outputs": [],
   "source": [
    "import json\n",
    "import re\n",
    "import numpy as np\n",
    "import pandas as pd\n",
    "from sklearn.feature_extraction.text import CountVectorizer\n",
    "from sklearn.naive_bayes import MultinomialNB\n",
    "import random"
   ]
  },
  {
   "cell_type": "markdown",
   "id": "ccaf2557",
   "metadata": {},
   "source": [
    "# 02 Data Acquisition"
   ]
  },
  {
   "cell_type": "code",
   "execution_count": 2,
   "id": "0d043ff1",
   "metadata": {},
   "outputs": [],
   "source": [
    "# Teks\n",
    "chatbot_user_talk = {\n",
    "  \"teks\": [\n",
    "    {\n",
    "      \"tag\": \"salam\",\n",
    "      \"patterns\": [\n",
    "        \"Hai\",\n",
    "        \"hai.\",\n",
    "        \"hai boi\",\n",
    "        \"hai bro\",\n",
    "        \"Hi\",\n",
    "        \"Hi.\",\n",
    "        \"Hi bro\",\n",
    "        \"Halo\",\n",
    "        \"halo bro\",\n",
    "        \"Selamat Pagi\",\n",
    "        \"Selamat Siang\",\n",
    "        \"Selamat Malam\"\n",
    "      ],\n",
    "      \"responses\": [\n",
    "        \"Halo, ada yang bisa saya bantu?\",\n",
    "        \"Halo, selamat datang\",\n",
    "        \"Hai, salam kenal\"\n",
    "      ]\n",
    "    },\n",
    "    {\n",
    "      \"tag\": \"selesai\",\n",
    "      \"patterns\": [\n",
    "        \"Selamat Tinggal\",\n",
    "        \"Dah\",\n",
    "        \"Dahlah\",\n",
    "        \"Semoga harimu menyenangkan\",\n",
    "        \"Sampai Jumpa Lagi\",\n",
    "        \"Ok bye\",\n",
    "        \"terima kasih\",\n",
    "        \"terima kasih.\"\n",
    "        \"Makasii\",\n",
    "        \"makasi ya\",\n",
    "        \"makasi ya.\",\n",
    "        \"makasi ya wkwkwk\",\n",
    "        \"makasi ya hehehe\",\n",
    "        \"makasi sarannya\",\n",
    "        \"makasi sarannya.\",\n",
    "      ],\n",
    "      \"responses\": [\n",
    "        \"Sampai jumpa lagi yaa ^_^\",\n",
    "        \"Semoga harimu menyenangkan! 😁\"\n",
    "      ]\n",
    "    },\n",
    "    {\n",
    "      \"tag\": \"nama\",\n",
    "      \"patterns\": [\n",
    "        \"nama kamu siapa?\",\n",
    "        \"namamu siapa?\",\n",
    "        \"siapa sih lo?\",\n",
    "        \"kamu siapa?\",\n",
    "        \"kamu sapa?\",\n",
    "        \"nama?\"\n",
    "      ],\n",
    "      \"responses\": [\n",
    "        \"Namaku InDep Bot, salam kenal ya!\",\n",
    "        \"Halo, aku InDep ^_^!\",\n",
    "        \"Kenalin, aku InDep ^_^!\"\n",
    "      ]\n",
    "    },\n",
    "    {\n",
    "      \"tag\": \"pekerjaan\",\n",
    "      \"patterns\": [\n",
    "        \"pekerjaan kamu apa?\",\n",
    "        \"lu kerja apa?\",\n",
    "        \"tugas kamu apa?\",\n",
    "        \"tugas lo ngapain?\"\n",
    "      ],\n",
    "      \"responses\": [\n",
    "        \"InDep berusaha membantu kamu dalam mengatasi Depresi ^_^\",\n",
    "        \"Tugas InDep jadi asisten pribade kamu agar kamu terlepas dari depresi ^_^. Silahkan bertanya yaaa ^_^\"\n",
    "      ]\n",
    "    },\n",
    "    {\n",
    "      \"tag\": \"tentang_depresi\",\n",
    "      \"patterns\": [\n",
    "        \"depresi itu apa?\",\n",
    "        \"emang depresi apa sih?\",\n",
    "        \"wah apa tuh depresi?\",\n",
    "        \"depresi emang apa?\",\n",
    "        \"depresi itu apa sih\",\n",
    "        \"apa depresi\",\n",
    "        \"apa itu depresi?\",\n",
    "        \"apa itu depresi\",\n",
    "        \"depresi itu apa\",\n",
    "        \"depresi apa\"\n",
    "      ],\n",
    "      \"responses\": [\n",
    "        \"Depresi merupakan sebuah penyakit yang ditandai dengan rasa sedih yang berkepanjangan dan kehilangan minat terhadap kegiatan-kegiatan yang biasanya kita lakukan dengan senang hati.\"\n",
    "      ]\n",
    "    },\n",
    "    {\n",
    "      \"tag\": \"gejala_depresi\",\n",
    "      \"patterns\": [\n",
    "        \"apa aja sih gejala depresi?\",\n",
    "        \"Apa gejala depresi\",\n",
    "        \"depresi gejala\"\n",
    "        \"gejala depresi\",\n",
    "        \"bagaimana gejala depresi\",\n",
    "        \"depresi biasanya gejalanya apa\",\n",
    "        \"depresi biasanya gejalanya apa?\",\n",
    "        \"depresi umumnya gejalanya apa\",\n",
    "        \"depresi umumnya gejalanya apa?\"\n",
    "      ],\n",
    "      \"responses\": [\n",
    "        \"\"\"\n",
    "                    +-- [ GEJALA ] --+\n",
    "                    1. Merasa cemas dan khawatir yang berlebihan\n",
    "                    2. Mudah sensitif dan marah serta mudah menangis\n",
    "                    3. Menjadi apatis terhadap lingkungan sekitar\n",
    "                    4. Sulit berkonsentrasi, berpikir, dan mengambil keputusan\n",
    "                    5. Sering merasa kelelahan dan tidak bertenaga\n",
    "                    6. Merasa pusing atau nyeri yang tidak jelas penyebabnya\n",
    "                    7. Berat badan turun atau malah naik drastis\n",
    "                    8. Gerak tubuh dan cara bicara yang lebih lambat dari biasanya\n",
    "        \"\"\"\n",
    "      ]\n",
    "    },\n",
    "    {\n",
    "      \"tag\": \"penanggulangan_depresi\",\n",
    "      \"patterns\": [\n",
    "        \"ngatasinya gimana sih?\",\n",
    "        \"trus gimana ya?\",\n",
    "        \"trus gimana.\",\n",
    "        \"trus gimana\",\n",
    "        \"lalu harus gimana ya?\",\n",
    "        \"harus gimana\",\n",
    "        \"harus gimana.\"\n",
    "        \"harus gimana ?\",\n",
    "        \"harus bagaimana\",\n",
    "        \"harus bagaimana.\",\n",
    "        \"harus bagaimana?\",\n",
    "        \"harus bagaimana ya?\",\n",
    "        \"harus bagaimana.\"\n",
    "        \"ada cara ngatasi ga?\",\n",
    "        \"ada cara ga?\",\n",
    "        \"ada cara ga\",\n",
    "        \"ada cara untuk mengatasinya engga?\",\n",
    "        \"gimana  ngatasinya?\",\n",
    "        \"bagaimana cara mengatasinya tuh?\",\n",
    "        \"cara mengatasinya\",\n",
    "        \"cara mengatasinya?\",\n",
    "        \"cara mengatasinya!\",\n",
    "        \"solusi depresi\",\n",
    "        \"solusi depresi.\",\n",
    "        \"solusi\",\n",
    "        \"solusi.\",\n",
    "        \"solusinya\",\n",
    "        \"atasi depresi\",\n",
    "        \"atasi depresi.\"\n",
    "        \"atasi\",\n",
    "        \"atasi.\"\n",
    "      ],\n",
    "      \"responses\": [\n",
    "        \"\"\"\n",
    "                    +-- [ PENANGGULANGAN ] --+\n",
    "                    1. Melakukan rutinitas\n",
    "                    2. Menetapkan tujuan\n",
    "                    3. Melakukan olahraga\n",
    "                    4. Makan sehat\n",
    "                    5. Tidur yang cukup\n",
    "                    6. Membentuk pikiran positif\n",
    "                    7. Hindari penyalahgunaan zat\n",
    "                    8. Konsultasi dengan profesional\n",
    "        \"\"\"\n",
    "      ]\n",
    "    },\n",
    "    {\n",
    "      \"tag\": \"curhat_tentang_orangtua\",\n",
    "      \"patterns\": [\n",
    "        \"Saya merasa telah mengecewakan orang tua saya\",\n",
    "        \"Saya sering mengecewakan orang tua saya\",\n",
    "        \"aku merasa sering berbohong kepada orang tua\",\n",
    "        \"aku sering membentak orang tua\",\n",
    "        \"aku seringkali mempermalukan orang tua\",\n",
    "        \"aku merasa tak pantas menjadi seorang anak\"\n",
    "      ],\n",
    "      \"responses\": [\n",
    "        \"Orang tuamu akan selalu mendukungmu dan mencintaimu apapun kondisimu ^_^\"\n",
    "      ]\n",
    "    },\n",
    "    \n",
    "    {\n",
    "      \"tag\": \"curhat_tentang_diri_sendiri1\",\n",
    "      \"patterns\": [\n",
    "        \"Saya merasa stres akhir-akhir ini\",\n",
    "        \"Aku membenci diriku sendiri!\",\n",
    "        \"Aku membenci diriku sendiri.\",\n",
    "        \"Aku benci kalah.\",\n",
    "        \"Saya pikir saya kehilangan akal\",\n",
    "        \"Saya pikir saya kehilangan akal.\",\n",
    "        \"Saya stres.\",\n",
    "        \"Saya stres\",\n",
    "        \"Saya tidak akan pernah berhasil dalam hidup\",\n",
    "        \"Saya tidak akan pernah berhasil dalam hidup.\",\n",
    "        \"Aku sedih.\",\n",
    "        \"Aku sedih\",\n",
    "        \"Aku mengecewakan semua orang\",\n",
    "        \"Aku mengecewakan semua orang.\",\n",
    "        \"Saya tidak bisa melakukan ini lagi.\",\n",
    "        \"Saya tidak bisa melakukan ini lagi\",\n",
    "      ],\n",
    "      \"responses\": [\n",
    "        \"Tetap Semangat Yaaa Kawann ^_^, Jangan Menyerahhh. InDep yakin kamu pasti bisa menghadapinyaaa 😊\"\n",
    "      ]\n",
    "    },\n",
    "    {\n",
    "      \"tag\": \"curhat_tentang_diri_sendiri2\",\n",
    "      \"patterns\": [\n",
    "        \"saya ingin bunuh diri\",\n",
    "        \"Saya takut gagal\",\n",
    "        \"Saya kesepian!\",\n",
    "        \"Saya kesepian :(\",\n",
    "        \"Saya kesepian.\"\n",
    "        \"Tidak ada yang menyukaiku!\",\n",
    "        \"Tidak ada yang menyukaiku :(\",\n",
    "        \"Tidak ada yang menyukaiku.\"\n",
    "        \"Saya pikir saya jelek!\",\n",
    "        \"Saya pikir saya jelek.\",\n",
    "        \"Saya berharap saya lebih baik dari mereka\",\n",
    "        \"Saya berharap saya lebih baik dari mereka.\",\n",
    "        \"Saya adalah korban bullying.\",\n",
    "        \"Saya adalah korban bullying\",\n",
    "        \"Saya ingin berhenti\",\n",
    "        \"Saya ingin berhenti hidup\",\n",
    "        \"Saya ingin berhenti hidup.\",\n",
    "        \"Waktuku telah tiba.\",\n",
    "        \"Waktuku telah tiba\"\n",
    "      ],\n",
    "      \"responses\": [\n",
    "        \"Tolong jangan katakan seperti itu :(, InDep yakin kamu kuat dan tidak pantang menyerah ❤️❤️\"\n",
    "      ]\n",
    "    }\n",
    "  ]\n",
    "}"
   ]
  },
  {
   "cell_type": "code",
   "execution_count": 3,
   "id": "d2009452",
   "metadata": {},
   "outputs": [],
   "source": [
    "json_teks = json.dumps(chatbot_user_talk, indent=4)\n",
    "\n",
    "with open('nlp_teks.json', 'w') as file:\n",
    "    file.write(json_teks)"
   ]
  },
  {
   "cell_type": "code",
   "execution_count": 4,
   "id": "1e71ecd9",
   "metadata": {},
   "outputs": [
    {
     "name": "stdout",
     "output_type": "stream",
     "text": [
      "{'teks': [{'tag': 'salam', 'patterns': ['Hai', 'hai.', 'hai boi', 'hai bro', 'Hi', 'Hi.', 'Hi bro', 'Halo', 'halo bro', 'Selamat Pagi', 'Selamat Siang', 'Selamat Malam'], 'responses': ['Halo, ada yang bisa saya bantu?', 'Halo, selamat datang', 'Hai, salam kenal']}, {'tag': 'selesai', 'patterns': ['Selamat Tinggal', 'Dah', 'Dahlah', 'Semoga harimu menyenangkan', 'Sampai Jumpa Lagi', 'Ok bye', 'terima kasih', 'terima kasih.Makasii', 'makasi ya', 'makasi ya.', 'makasi ya wkwkwk', 'makasi ya hehehe', 'makasi sarannya', 'makasi sarannya.'], 'responses': ['Sampai jumpa lagi yaa ^_^', 'Semoga harimu menyenangkan! 😁']}, {'tag': 'nama', 'patterns': ['nama kamu siapa?', 'namamu siapa?', 'siapa sih lo?', 'kamu siapa?', 'kamu sapa?', 'nama?'], 'responses': ['Namaku InDep Bot, salam kenal ya!', 'Halo, aku InDep ^_^!', 'Kenalin, aku InDep ^_^!']}, {'tag': 'pekerjaan', 'patterns': ['pekerjaan kamu apa?', 'lu kerja apa?', 'tugas kamu apa?', 'tugas lo ngapain?'], 'responses': ['InDep berusaha membantu kamu dalam mengatasi Depresi ^_^', 'Tugas InDep jadi asisten pribade kamu agar kamu terlepas dari depresi ^_^. Silahkan bertanya yaaa ^_^']}, {'tag': 'tentang_depresi', 'patterns': ['depresi itu apa?', 'emang depresi apa sih?', 'wah apa tuh depresi?', 'depresi emang apa?', 'depresi itu apa sih', 'apa depresi', 'apa itu depresi?', 'apa itu depresi', 'depresi itu apa', 'depresi apa'], 'responses': ['Depresi merupakan sebuah penyakit yang ditandai dengan rasa sedih yang berkepanjangan dan kehilangan minat terhadap kegiatan-kegiatan yang biasanya kita lakukan dengan senang hati.']}, {'tag': 'gejala_depresi', 'patterns': ['apa aja sih gejala depresi?', 'Apa gejala depresi', 'depresi gejalagejala depresi', 'bagaimana gejala depresi', 'depresi biasanya gejalanya apa', 'depresi biasanya gejalanya apa?', 'depresi umumnya gejalanya apa', 'depresi umumnya gejalanya apa?'], 'responses': ['\\n                    +-- [ GEJALA ] --+\\n                    1. Merasa cemas dan khawatir yang berlebihan\\n                    2. Mudah sensitif dan marah serta mudah menangis\\n                    3. Menjadi apatis terhadap lingkungan sekitar\\n                    4. Sulit berkonsentrasi, berpikir, dan mengambil keputusan\\n                    5. Sering merasa kelelahan dan tidak bertenaga\\n                    6. Merasa pusing atau nyeri yang tidak jelas penyebabnya\\n                    7. Berat badan turun atau malah naik drastis\\n                    8. Gerak tubuh dan cara bicara yang lebih lambat dari biasanya\\n        ']}, {'tag': 'penanggulangan_depresi', 'patterns': ['ngatasinya gimana sih?', 'trus gimana ya?', 'trus gimana.', 'trus gimana', 'lalu harus gimana ya?', 'harus gimana', 'harus gimana.harus gimana ?', 'harus bagaimana', 'harus bagaimana.', 'harus bagaimana?', 'harus bagaimana ya?', 'harus bagaimana.ada cara ngatasi ga?', 'ada cara ga?', 'ada cara ga', 'ada cara untuk mengatasinya engga?', 'gimana  ngatasinya?', 'bagaimana cara mengatasinya tuh?', 'cara mengatasinya', 'cara mengatasinya?', 'cara mengatasinya!', 'solusi depresi', 'solusi depresi.', 'solusi', 'solusi.', 'solusinya', 'atasi depresi', 'atasi depresi.atasi', 'atasi.'], 'responses': ['\\n                    +-- [ PENANGGULANGAN ] --+\\n                    1. Melakukan rutinitas\\n                    2. Menetapkan tujuan\\n                    3. Melakukan olahraga\\n                    4. Makan sehat\\n                    5. Tidur yang cukup\\n                    6. Membentuk pikiran positif\\n                    7. Hindari penyalahgunaan zat\\n                    8. Konsultasi dengan profesional\\n        ']}, {'tag': 'curhat_tentang_orangtua', 'patterns': ['Saya merasa telah mengecewakan orang tua saya', 'Saya sering mengecewakan orang tua saya', 'aku merasa sering berbohong kepada orang tua', 'aku sering membentak orang tua', 'aku seringkali mempermalukan orang tua', 'aku merasa tak pantas menjadi seorang anak'], 'responses': ['Orang tuamu akan selalu mendukungmu dan mencintaimu apapun kondisimu ^_^']}, {'tag': 'curhat_tentang_diri_sendiri1', 'patterns': ['Saya merasa stres akhir-akhir ini', 'Aku membenci diriku sendiri!', 'Aku membenci diriku sendiri.', 'Aku benci kalah.', 'Saya pikir saya kehilangan akal', 'Saya pikir saya kehilangan akal.', 'Saya stres.', 'Saya stres', 'Saya tidak akan pernah berhasil dalam hidup', 'Saya tidak akan pernah berhasil dalam hidup.', 'Aku sedih.', 'Aku sedih', 'Aku mengecewakan semua orang', 'Aku mengecewakan semua orang.', 'Saya tidak bisa melakukan ini lagi.', 'Saya tidak bisa melakukan ini lagi'], 'responses': ['Tetap Semangat Yaaa Kawann ^_^, Jangan Menyerahhh. InDep yakin kamu pasti bisa menghadapinyaaa 😊']}, {'tag': 'curhat_tentang_diri_sendiri2', 'patterns': ['saya ingin bunuh diri', 'Saya takut gagal', 'Saya kesepian!', 'Saya kesepian :(', 'Saya kesepian.Tidak ada yang menyukaiku!', 'Tidak ada yang menyukaiku :(', 'Tidak ada yang menyukaiku.Saya pikir saya jelek!', 'Saya pikir saya jelek.', 'Saya berharap saya lebih baik dari mereka', 'Saya berharap saya lebih baik dari mereka.', 'Saya adalah korban bullying.', 'Saya adalah korban bullying', 'Saya ingin berhenti', 'Saya ingin berhenti hidup', 'Saya ingin berhenti hidup.', 'Waktuku telah tiba.', 'Waktuku telah tiba'], 'responses': ['Tolong jangan katakan seperti itu :(, InDep yakin kamu kuat dan tidak pantang menyerah ❤️❤️']}]}\n",
      "<class 'dict'>\n"
     ]
    }
   ],
   "source": [
    "with open('nlp_teks.json', 'r') as openfile:\n",
    "    file_teks_nlp = json.load(openfile)\n",
    "\n",
    "print(file_teks_nlp)\n",
    "print(type(file_teks_nlp))"
   ]
  },
  {
   "cell_type": "code",
   "execution_count": 5,
   "id": "4fca8053",
   "metadata": {},
   "outputs": [
    {
     "data": {
      "text/html": [
       "<div>\n",
       "<style scoped>\n",
       "    .dataframe tbody tr th:only-of-type {\n",
       "        vertical-align: middle;\n",
       "    }\n",
       "\n",
       "    .dataframe tbody tr th {\n",
       "        vertical-align: top;\n",
       "    }\n",
       "\n",
       "    .dataframe thead th {\n",
       "        text-align: right;\n",
       "    }\n",
       "</style>\n",
       "<table border=\"1\" class=\"dataframe\">\n",
       "  <thead>\n",
       "    <tr style=\"text-align: right;\">\n",
       "      <th></th>\n",
       "      <th>teks_input</th>\n",
       "      <th>tag</th>\n",
       "    </tr>\n",
       "  </thead>\n",
       "  <tbody>\n",
       "    <tr>\n",
       "      <th>0</th>\n",
       "      <td>Hai</td>\n",
       "      <td>salam</td>\n",
       "    </tr>\n",
       "    <tr>\n",
       "      <th>1</th>\n",
       "      <td>hai.</td>\n",
       "      <td>salam</td>\n",
       "    </tr>\n",
       "    <tr>\n",
       "      <th>2</th>\n",
       "      <td>hai boi</td>\n",
       "      <td>salam</td>\n",
       "    </tr>\n",
       "    <tr>\n",
       "      <th>3</th>\n",
       "      <td>hai bro</td>\n",
       "      <td>salam</td>\n",
       "    </tr>\n",
       "    <tr>\n",
       "      <th>4</th>\n",
       "      <td>Hi</td>\n",
       "      <td>salam</td>\n",
       "    </tr>\n",
       "  </tbody>\n",
       "</table>\n",
       "</div>"
      ],
      "text/plain": [
       "  teks_input    tag\n",
       "0        Hai  salam\n",
       "1       hai.  salam\n",
       "2    hai boi  salam\n",
       "3    hai bro  salam\n",
       "4         Hi  salam"
      ]
     },
     "execution_count": 5,
     "metadata": {},
     "output_type": "execute_result"
    }
   ],
   "source": [
    "teks_input = []\n",
    "teks_tag = []\n",
    "\n",
    "for kata in file_teks_nlp['teks']:\n",
    "    for pola in kata['patterns']:\n",
    "        teks_input.append(pola)\n",
    "        teks_tag.append(kata['tag'])\n",
    "        \n",
    "df = pd.DataFrame({'teks_input': teks_input, 'tag': teks_tag})\n",
    "\n",
    "df.head()"
   ]
  },
  {
   "cell_type": "code",
   "execution_count": 6,
   "id": "24f3023f",
   "metadata": {},
   "outputs": [
    {
     "name": "stdout",
     "output_type": "stream",
     "text": [
      "{\n",
      "    \"salam\": [\n",
      "        \"Halo, ada yang bisa saya bantu?\",\n",
      "        \"Halo, selamat datang\",\n",
      "        \"Hai, salam kenal\"\n",
      "    ],\n",
      "    \"selesai\": [\n",
      "        \"Sampai jumpa lagi yaa ^_^\",\n",
      "        \"Semoga harimu menyenangkan! \\ud83d\\ude01\"\n",
      "    ],\n",
      "    \"nama\": [\n",
      "        \"Namaku InDep Bot, salam kenal ya!\",\n",
      "        \"Halo, aku InDep ^_^!\",\n",
      "        \"Kenalin, aku InDep ^_^!\"\n",
      "    ],\n",
      "    \"pekerjaan\": [\n",
      "        \"InDep berusaha membantu kamu dalam mengatasi Depresi ^_^\",\n",
      "        \"Tugas InDep jadi asisten pribade kamu agar kamu terlepas dari depresi ^_^. Silahkan bertanya yaaa ^_^\"\n",
      "    ],\n",
      "    \"tentang_depresi\": [\n",
      "        \"Depresi merupakan sebuah penyakit yang ditandai dengan rasa sedih yang berkepanjangan dan kehilangan minat terhadap kegiatan-kegiatan yang biasanya kita lakukan dengan senang hati.\"\n",
      "    ],\n",
      "    \"gejala_depresi\": [\n",
      "        \"\\n                    +-- [ GEJALA ] --+\\n                    1. Merasa cemas dan khawatir yang berlebihan\\n                    2. Mudah sensitif dan marah serta mudah menangis\\n                    3. Menjadi apatis terhadap lingkungan sekitar\\n                    4. Sulit berkonsentrasi, berpikir, dan mengambil keputusan\\n                    5. Sering merasa kelelahan dan tidak bertenaga\\n                    6. Merasa pusing atau nyeri yang tidak jelas penyebabnya\\n                    7. Berat badan turun atau malah naik drastis\\n                    8. Gerak tubuh dan cara bicara yang lebih lambat dari biasanya\\n        \"\n",
      "    ],\n",
      "    \"penanggulangan_depresi\": [\n",
      "        \"\\n                    +-- [ PENANGGULANGAN ] --+\\n                    1. Melakukan rutinitas\\n                    2. Menetapkan tujuan\\n                    3. Melakukan olahraga\\n                    4. Makan sehat\\n                    5. Tidur yang cukup\\n                    6. Membentuk pikiran positif\\n                    7. Hindari penyalahgunaan zat\\n                    8. Konsultasi dengan profesional\\n        \"\n",
      "    ],\n",
      "    \"curhat_tentang_orangtua\": [\n",
      "        \"Orang tuamu akan selalu mendukungmu dan mencintaimu apapun kondisimu ^_^\"\n",
      "    ],\n",
      "    \"curhat_tentang_diri_sendiri1\": [\n",
      "        \"Tetap Semangat Yaaa Kawann ^_^, Jangan Menyerahhh. InDep yakin kamu pasti bisa menghadapinyaaa \\ud83d\\ude0a\"\n",
      "    ],\n",
      "    \"curhat_tentang_diri_sendiri2\": [\n",
      "        \"Tolong jangan katakan seperti itu :(, InDep yakin kamu kuat dan tidak pantang menyerah \\u2764\\ufe0f\\u2764\\ufe0f\"\n",
      "    ]\n",
      "}\n"
     ]
    }
   ],
   "source": [
    "respon = {}\n",
    "\n",
    "for teks in chatbot_user_talk['teks']:\n",
    "    for resp in teks['responses']:\n",
    "        if teks['tag'] in respon.keys():\n",
    "            respon[teks['tag']].append(resp)\n",
    "        else:\n",
    "            respon[teks['tag']] = [resp]\n",
    "            \n",
    "print(json.dumps(respon, indent=4))"
   ]
  },
  {
   "cell_type": "code",
   "execution_count": 7,
   "id": "693ef45a",
   "metadata": {},
   "outputs": [
    {
     "data": {
      "text/plain": [
       "(121, 2)"
      ]
     },
     "execution_count": 7,
     "metadata": {},
     "output_type": "execute_result"
    }
   ],
   "source": [
    "df.shape"
   ]
  },
  {
   "cell_type": "code",
   "execution_count": 8,
   "id": "e0144a59",
   "metadata": {},
   "outputs": [
    {
     "data": {
      "text/plain": [
       "penanggulangan_depresi          28\n",
       "curhat_tentang_diri_sendiri2    17\n",
       "curhat_tentang_diri_sendiri1    16\n",
       "selesai                         14\n",
       "salam                           12\n",
       "tentang_depresi                 10\n",
       "gejala_depresi                   8\n",
       "nama                             6\n",
       "curhat_tentang_orangtua          6\n",
       "pekerjaan                        4\n",
       "Name: tag, dtype: int64"
      ]
     },
     "execution_count": 8,
     "metadata": {},
     "output_type": "execute_result"
    }
   ],
   "source": [
    "df.tag.value_counts()"
   ]
  },
  {
   "cell_type": "markdown",
   "id": "d7440657",
   "metadata": {},
   "source": [
    "# 03 Text Preprocessing"
   ]
  },
  {
   "cell_type": "code",
   "execution_count": 9,
   "id": "5b9d22cc",
   "metadata": {},
   "outputs": [],
   "source": [
    "def text_preprocessing(text):\n",
    "    text = text.lower()                               # Mengubah teks menjadi lower case\n",
    "    text = re.sub(r'https?://\\S+|www\\.\\S+', '', text) # Menghapus URL\n",
    "    text = re.sub(r'[-+]?[0-9]+', '', text)           # Menghapus angka\n",
    "    text = re.sub(r'[^\\w\\s]','', text)                # Menghapus karakter tanda baca\n",
    "    text = text.strip()                               # Menghapus whitespaces\n",
    "    return text"
   ]
  },
  {
   "cell_type": "code",
   "execution_count": 10,
   "id": "cfcb2d7d",
   "metadata": {},
   "outputs": [],
   "source": [
    "    df['clean_teks_input'] = df.teks_input.apply(text_preprocessing)"
   ]
  },
  {
   "cell_type": "markdown",
   "id": "988c2fe0",
   "metadata": {},
   "source": [
    "# 04 Feature Extraction (Bag of Words)"
   ]
  },
  {
   "cell_type": "code",
   "execution_count": 11,
   "id": "8ef6773f",
   "metadata": {},
   "outputs": [
    {
     "name": "stdout",
     "output_type": "stream",
     "text": [
      "294\n"
     ]
    }
   ],
   "source": [
    "bow = CountVectorizer(ngram_range=(1,2))\n",
    "\n",
    "bow.fit(df['clean_teks_input'])\n",
    "\n",
    "print(len(bow.get_feature_names_out()))"
   ]
  },
  {
   "cell_type": "code",
   "execution_count": 12,
   "id": "e2726b00",
   "metadata": {},
   "outputs": [
    {
     "name": "stdout",
     "output_type": "stream",
     "text": [
      "['ada' 'ada cara' 'ada yang' 'adalah' 'adalah korban' 'aja' 'aja sih'\n",
      " 'akal' 'akan' 'akan pernah']\n"
     ]
    }
   ],
   "source": [
    "print(bow.get_feature_names_out()[:10])"
   ]
  },
  {
   "cell_type": "code",
   "execution_count": 13,
   "id": "7f211801",
   "metadata": {},
   "outputs": [],
   "source": [
    "# Ubah data teks menjadi matriks\n",
    "teks_vect = bow.transform(df['clean_teks_input'])"
   ]
  },
  {
   "cell_type": "markdown",
   "id": "fada5b69",
   "metadata": {},
   "source": [
    "# 05 Modelling (Naive Bayes Classifier)"
   ]
  },
  {
   "cell_type": "code",
   "execution_count": 14,
   "id": "76cbe658",
   "metadata": {},
   "outputs": [
    {
     "data": {
      "text/plain": [
       "0.9917355371900827"
      ]
     },
     "execution_count": 14,
     "metadata": {},
     "output_type": "execute_result"
    }
   ],
   "source": [
    "clf = MultinomialNB()\n",
    "\n",
    "clf.fit(teks_vect, df.tag)\n",
    "clf.score(teks_vect, df.tag)"
   ]
  },
  {
   "cell_type": "code",
   "execution_count": 15,
   "id": "580e6449",
   "metadata": {},
   "outputs": [
    {
     "name": "stdout",
     "output_type": "stream",
     "text": [
      "Masukkan String: sdfa\n",
      "Max Prob : 0.23140495867768593\n",
      "Max Index: 6\n",
      "Label: penanggulangan_depresi\n"
     ]
    }
   ],
   "source": [
    "chat = input(\"Masukkan String: \")    \n",
    "chat = text_preprocessing(chat)         # Text preprocessing\n",
    "chat = bow.transform([chat])            # Feature extraction. Mengubah teks menjadi vektor\n",
    "\n",
    "res = clf.predict_proba(chat)           # Prediksi vektor teks kedalam model machine learning\n",
    "\n",
    "# Agar hasil menjadi lebih natural, kita lakukan prediksi dengan probabilitas sehingga apabila hasil prediksi kurang dari threshold probabilitas yang ditentukan, \n",
    "# Kita bisa membubuat bot untuk mengatakan \"tidak mengerti\"\n",
    "# Ambil nilai probabilitas tertinggi\n",
    "max_prob = max(res[0])\n",
    "max_idx = np.argmax(res[0])\n",
    "print(f\"Max Prob : {max_prob}\\nMax Index: {max_idx}\\nLabel: {clf.classes_[max_idx]}\")"
   ]
  },
  {
   "cell_type": "markdown",
   "id": "4ee343fe",
   "metadata": {},
   "source": [
    "# 06 Simple Inference Engine"
   ]
  },
  {
   "cell_type": "code",
   "execution_count": 16,
   "id": "748f137a",
   "metadata": {},
   "outputs": [],
   "source": [
    "def get_response(intent):\n",
    "    return random.choice(respon[intent])\n",
    "  \n",
    "def chat():\n",
    "    print(\"Kamu terhubung dengan chatbot InDep. Ketik 'bye' untuk mengakhiri obrolan.\")\n",
    "    exit = False\n",
    "\n",
    "    while not exit:\n",
    "        chat = input(\"🧑 Kamu\\t\\t: \")       \n",
    "        chat = text_preprocessing(chat)       # Text preprocessing\n",
    "        chat = bow.transform([chat])          # Feature extraction. Mengubah teks menjadi vektor\n",
    "\n",
    "        res = clf.predict_proba(chat)         # Prediksi vektor teks kedalam model machine learning\n",
    "\n",
    "        max_prob = max(res[0])                # Ambil nilai probabilitas & index lokasinya\n",
    "        max_idx = np.argmax(res[0])\n",
    "\n",
    "        # Kondisi jika probabilitas kurang dari threshold yang ditentukan\n",
    "        if max_prob < 0.2:\n",
    "            print(\"🤖 InDep\\t: Maaf, saya tidak mengerti apa yang kamu maksud :(\")\n",
    "        else:\n",
    "            for tg in chatbot_user_talk['teks']:\n",
    "                if tg['tag'] == max_idx:\n",
    "                    respon_ = tg['responses']\n",
    "            if clf.classes_[max_idx] == 'selesai':\n",
    "                exit = True\n",
    "                print(\"🤖 InDep\\t: Obrolan berakhir ...\") \n",
    "            print(f\"🤖 InDep\\t: {get_response(clf.classes_[max_idx])}\")"
   ]
  },
  {
   "cell_type": "code",
   "execution_count": 17,
   "id": "e17fb96c",
   "metadata": {},
   "outputs": [],
   "source": [
    "# chat()"
   ]
  },
  {
   "cell_type": "code",
   "execution_count": 18,
   "id": "724460d2",
   "metadata": {},
   "outputs": [],
   "source": [
    "def dapat_respon(kriteria):\n",
    "    return random.choice(respon[kriteria])\n",
    "\n",
    "def prediksi_chat(input_user):\n",
    "    input_user = text_preprocessing(input_user)\n",
    "    input_user = bow.transform([input_user])\n",
    "    \n",
    "    hasil = clf.predict_proba(input_user)\n",
    "    \n",
    "    max_prob = max(hasil[0])               \n",
    "    max_idx = np.argmax(hasil[0])\n",
    "    \n",
    "    if max_prob < 0.3:\n",
    "        return \"Maaf, saya tidak mengerti apa yang kamu maksud :(\"\n",
    "    else:\n",
    "        for tg in file_teks_nlp['teks']:\n",
    "            if tg['tag'] == max_idx:\n",
    "                respon_ = tg['responses']\n",
    "        return dapat_respon(clf.classes_[max_idx])"
   ]
  },
  {
   "cell_type": "code",
   "execution_count": 19,
   "id": "bf7b5f83",
   "metadata": {},
   "outputs": [
    {
     "name": "stdout",
     "output_type": "stream",
     "text": [
      "Hasil: Halo, selamat datang\n"
     ]
    }
   ],
   "source": [
    "hasil = prediksi_chat(\"hi\")\n",
    "print(\"Hasil: \" + hasil)"
   ]
  },
  {
   "cell_type": "markdown",
   "id": "b259709f",
   "metadata": {},
   "source": [
    "## DISINI MAU NAMBAH KATA\n",
    "Isi kata apa aja bebas\n",
    "\n",
    "- "
   ]
  }
 ],
 "metadata": {
  "kernelspec": {
   "display_name": "Python 3 (ipykernel)",
   "language": "python",
   "name": "python3"
  },
  "language_info": {
   "codemirror_mode": {
    "name": "ipython",
    "version": 3
   },
   "file_extension": ".py",
   "mimetype": "text/x-python",
   "name": "python",
   "nbconvert_exporter": "python",
   "pygments_lexer": "ipython3",
   "version": "3.9.5"
  }
 },
 "nbformat": 4,
 "nbformat_minor": 5
}
